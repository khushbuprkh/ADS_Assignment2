{
 "cells": [
  {
   "cell_type": "markdown",
   "metadata": {},
   "source": [
    "# Part 2 Create a DBaas (Database as a service)  POSTGRES IN EC2"
   ]
  },
  {
   "cell_type": "markdown",
   "metadata": {},
   "source": [
    "### Note : Please Make sure to start the Postgres SQL DB Server , before connection of DBaaS "
   ]
  },
  {
   "cell_type": "markdown",
   "metadata": {},
   "source": [
    "### Import of Packages "
   ]
  },
  {
   "cell_type": "code",
   "execution_count": 1,
   "metadata": {},
   "outputs": [
    {
     "name": "stdout",
     "output_type": "stream",
     "text": [
      "Import Done\n"
     ]
    }
   ],
   "source": [
    "# !pip install psycopg2\n",
    "# !pip install boto3\n",
    "\n",
    "import boto3\n",
    "import psycopg2\n",
    "import pandas as pd\n",
    "print('Import Done')"
   ]
  },
  {
   "cell_type": "markdown",
   "metadata": {},
   "source": [
    "### Connecting to Ec2 instance"
   ]
  },
  {
   "cell_type": "code",
   "execution_count": 2,
   "metadata": {},
   "outputs": [
    {
     "name": "stdout",
     "output_type": "stream",
     "text": [
      "i-0fc9cd67f33ef81bc {u'Code': 16, u'Name': 'running'}\n",
      "Conection to ec2 Sucessfull\n"
     ]
    }
   ],
   "source": [
    "ec2 = boto3.resource('ec2')\n",
    "for instance in ec2.instances.all():\n",
    "    print instance.id, instance.state\n",
    "\n",
    "print('Conection to ec2 Sucessfull')"
   ]
  },
  {
   "cell_type": "markdown",
   "metadata": {},
   "source": [
    "### Defining the Public DNS of ec2 instance"
   ]
  },
  {
   "cell_type": "code",
   "execution_count": 19,
   "metadata": {
    "collapsed": true
   },
   "outputs": [],
   "source": [
    "hostaws = 'ec2-54-164-174-112.compute-1.amazonaws.com'"
   ]
  },
  {
   "cell_type": "markdown",
   "metadata": {},
   "source": [
    "### Connecting PostgresSQL Host in EC2"
   ]
  },
  {
   "cell_type": "code",
   "execution_count": 20,
   "metadata": {
    "scrolled": true
   },
   "outputs": [
    {
     "name": "stdout",
     "output_type": "stream",
     "text": [
      "Opening connection using DSN:ec2-54-164-174-112.compute-1.amazonaws.com\n",
      "Encoding for this connection is UTF8\n"
     ]
    }
   ],
   "source": [
    "conn = psycopg2.connect(host=hostaws,user='postgres',database='postgres')\n",
    "print (\"Opening connection using DSN:\"+str(hostaws))\n",
    "print \"Encoding for this connection is\", conn.encoding"
   ]
  },
  {
   "cell_type": "markdown",
   "metadata": {},
   "source": [
    "### Creating Table in Postgres"
   ]
  },
  {
   "cell_type": "code",
   "execution_count": 37,
   "metadata": {
    "collapsed": true
   },
   "outputs": [],
   "source": [
    "curs = conn.cursor()\n",
    "try:\n",
    "    curs.execute(\"CREATE TABLE properties (index int,parcelid int,bathroomcnt double precision,bedroomcnt double precision, buildingqualitytypeid double precision,calculatedfinishedsquarefeet double precision,fips double precision,heatingorsystemtypeid double precision,latitude double precision,longitude double precision,lotsizesquarefeet double precision,rawcensustractandblock  double precision, regionidcity double precision, regionidcounty double precision, roomcnt double precision,yearbuilt  double precision,structuretaxvaluedollarcnt  double precision,taxamount  double precision,censustractandblock  double precision,transactiondate date)\")\n",
    "except:\n",
    "    conn.rollback()\n",
    "    curs.execute(\"DROP TABLE properties\")\n",
    "    curs.execute(\"CREATE TABLE properties (index int,parcelid int,bathroomcnt double precision,bedroomcnt double precision, buildingqualitytypeid double precision,calculatedfinishedsquarefeet double precision,fips double precision,heatingorsystemtypeid double precision,latitude double precision,longitude double precision,lotsizesquarefeet double precision,rawcensustractandblock  double precision, regionidcity double precision, regionidcounty double precision, roomcnt double precision,yearbuilt  double precision,structuretaxvaluedollarcnt  double precision,taxamount  double precision,censustractandblock  double precision,transactiondate date)\")\n",
    "    curs.close()"
   ]
  },
  {
   "cell_type": "markdown",
   "metadata": {},
   "source": [
    "### Removing the first column of the clean csv file , so that we can easily import the data into the Table"
   ]
  },
  {
   "cell_type": "code",
   "execution_count": 38,
   "metadata": {
    "collapsed": true
   },
   "outputs": [],
   "source": [
    "with open('cleanData.csv', 'r') as fin:\n",
    "    data = fin.read().splitlines(True)\n",
    "with open('texter.csv', 'w') as fout:\n",
    "      fout.writelines(data[1:])"
   ]
  },
  {
   "cell_type": "markdown",
   "metadata": {},
   "source": [
    "### Opening the fitered data "
   ]
  },
  {
   "cell_type": "code",
   "execution_count": 39,
   "metadata": {
    "collapsed": true
   },
   "outputs": [],
   "source": [
    "f = open(\"texter.csv\",'r')"
   ]
  },
  {
   "cell_type": "markdown",
   "metadata": {},
   "source": [
    "###  Exporting the the local datafile to postgressql residing in the EC2 instance"
   ]
  },
  {
   "cell_type": "code",
   "execution_count": 40,
   "metadata": {
    "collapsed": true
   },
   "outputs": [],
   "source": [
    "curs = conn.cursor()\n",
    "curs.copy_from(f, 'properties', sep=\",\")\n",
    "conn.commit()"
   ]
  },
  {
   "cell_type": "markdown",
   "metadata": {},
   "source": [
    "### Getting back the data formthe PostSQL DB server to local Dataframe"
   ]
  },
  {
   "cell_type": "code",
   "execution_count": 41,
   "metadata": {
    "collapsed": true
   },
   "outputs": [],
   "source": [
    "curs = conn.cursor()\n",
    "curs.execute('SELECT * FROM properties;')\n",
    "records = curs.fetchall()"
   ]
  },
  {
   "cell_type": "markdown",
   "metadata": {},
   "source": [
    "### Converting to Dataframe to further analysis as required "
   ]
  },
  {
   "cell_type": "code",
   "execution_count": 42,
   "metadata": {
    "collapsed": true
   },
   "outputs": [],
   "source": [
    "dataf = pd.DataFrame(records)"
   ]
  },
  {
   "cell_type": "markdown",
   "metadata": {},
   "source": [
    "### Renaming the columns as per fetched , which will help ahead for querying purpose "
   ]
  },
  {
   "cell_type": "code",
   "execution_count": 43,
   "metadata": {
    "collapsed": true
   },
   "outputs": [],
   "source": [
    "dataf.columns=['index','parcelid','longitude',\n",
    "              'latitude','landtaxvaluedollarcnt','lotsizesquarefeet',\n",
    "              'unitcnt','bathroomcnt','bedroomcnt','calculatedfinishedsquarefeet',\n",
    "              'fips','fullbathcnt','heatingorsystemtypeid','rawcensustractandblock','yearbuilt',\n",
    "              'structuretaxvaluedollarcnt','taxamount','censustractandblock','logerror','transactiondate']"
   ]
  },
  {
   "cell_type": "markdown",
   "metadata": {},
   "source": [
    "### Sample Data fetchefrom the EC2 instance (Postgres SQL DB server )"
   ]
  },
  {
   "cell_type": "code",
   "execution_count": 44,
   "metadata": {},
   "outputs": [
    {
     "data": {
      "text/html": [
       "<div>\n",
       "<style>\n",
       "    .dataframe thead tr:only-child th {\n",
       "        text-align: right;\n",
       "    }\n",
       "\n",
       "    .dataframe thead th {\n",
       "        text-align: left;\n",
       "    }\n",
       "\n",
       "    .dataframe tbody tr th {\n",
       "        vertical-align: top;\n",
       "    }\n",
       "</style>\n",
       "<table border=\"1\" class=\"dataframe\">\n",
       "  <thead>\n",
       "    <tr style=\"text-align: right;\">\n",
       "      <th></th>\n",
       "      <th>index</th>\n",
       "      <th>parcelid</th>\n",
       "      <th>longitude</th>\n",
       "      <th>latitude</th>\n",
       "      <th>landtaxvaluedollarcnt</th>\n",
       "      <th>lotsizesquarefeet</th>\n",
       "      <th>unitcnt</th>\n",
       "      <th>bathroomcnt</th>\n",
       "      <th>bedroomcnt</th>\n",
       "      <th>calculatedfinishedsquarefeet</th>\n",
       "      <th>fips</th>\n",
       "      <th>fullbathcnt</th>\n",
       "      <th>heatingorsystemtypeid</th>\n",
       "      <th>rawcensustractandblock</th>\n",
       "      <th>yearbuilt</th>\n",
       "      <th>structuretaxvaluedollarcnt</th>\n",
       "      <th>taxamount</th>\n",
       "      <th>censustractandblock</th>\n",
       "      <th>logerror</th>\n",
       "      <th>transactiondate</th>\n",
       "    </tr>\n",
       "  </thead>\n",
       "  <tbody>\n",
       "    <tr>\n",
       "      <th>0</th>\n",
       "      <td>1285</td>\n",
       "      <td>10726315</td>\n",
       "      <td>3.0</td>\n",
       "      <td>3.0</td>\n",
       "      <td>4.0</td>\n",
       "      <td>2445.0</td>\n",
       "      <td>6037.0</td>\n",
       "      <td>2.0</td>\n",
       "      <td>34184300.0</td>\n",
       "      <td>-118657000.0</td>\n",
       "      <td>63878.0</td>\n",
       "      <td>6.037135e+07</td>\n",
       "      <td>12447.0</td>\n",
       "      <td>3101.0</td>\n",
       "      <td>0.0</td>\n",
       "      <td>1982.0</td>\n",
       "      <td>436551.0</td>\n",
       "      <td>7170.22</td>\n",
       "      <td>6.037135e+13</td>\n",
       "      <td>2016-08-24</td>\n",
       "    </tr>\n",
       "    <tr>\n",
       "      <th>1</th>\n",
       "      <td>1309</td>\n",
       "      <td>10730788</td>\n",
       "      <td>2.0</td>\n",
       "      <td>4.0</td>\n",
       "      <td>7.0</td>\n",
       "      <td>1570.0</td>\n",
       "      <td>6037.0</td>\n",
       "      <td>2.0</td>\n",
       "      <td>34188446.0</td>\n",
       "      <td>-118616724.0</td>\n",
       "      <td>11308.0</td>\n",
       "      <td>6.037135e+07</td>\n",
       "      <td>12447.0</td>\n",
       "      <td>3101.0</td>\n",
       "      <td>0.0</td>\n",
       "      <td>1959.0</td>\n",
       "      <td>115379.0</td>\n",
       "      <td>5097.78</td>\n",
       "      <td>6.037135e+13</td>\n",
       "      <td>2016-07-01</td>\n",
       "    </tr>\n",
       "    <tr>\n",
       "      <th>2</th>\n",
       "      <td>1361</td>\n",
       "      <td>10743512</td>\n",
       "      <td>3.0</td>\n",
       "      <td>2.0</td>\n",
       "      <td>4.0</td>\n",
       "      <td>1394.0</td>\n",
       "      <td>6037.0</td>\n",
       "      <td>2.0</td>\n",
       "      <td>34152890.0</td>\n",
       "      <td>-118791494.0</td>\n",
       "      <td>77543.0</td>\n",
       "      <td>6.037800e+07</td>\n",
       "      <td>34278.0</td>\n",
       "      <td>3101.0</td>\n",
       "      <td>0.0</td>\n",
       "      <td>1998.0</td>\n",
       "      <td>203426.0</td>\n",
       "      <td>5550.36</td>\n",
       "      <td>6.037800e+13</td>\n",
       "      <td>2016-03-31</td>\n",
       "    </tr>\n",
       "    <tr>\n",
       "      <th>3</th>\n",
       "      <td>1417</td>\n",
       "      <td>10760933</td>\n",
       "      <td>2.0</td>\n",
       "      <td>4.0</td>\n",
       "      <td>7.0</td>\n",
       "      <td>1212.0</td>\n",
       "      <td>6037.0</td>\n",
       "      <td>7.0</td>\n",
       "      <td>34220631.0</td>\n",
       "      <td>-118521001.0</td>\n",
       "      <td>7379.0</td>\n",
       "      <td>6.037131e+07</td>\n",
       "      <td>12447.0</td>\n",
       "      <td>3101.0</td>\n",
       "      <td>0.0</td>\n",
       "      <td>1954.0</td>\n",
       "      <td>32615.0</td>\n",
       "      <td>4560.02</td>\n",
       "      <td>6.037131e+13</td>\n",
       "      <td>2016-06-27</td>\n",
       "    </tr>\n",
       "    <tr>\n",
       "      <th>4</th>\n",
       "      <td>1456</td>\n",
       "      <td>10772282</td>\n",
       "      <td>3.0</td>\n",
       "      <td>4.0</td>\n",
       "      <td>4.0</td>\n",
       "      <td>2597.0</td>\n",
       "      <td>6037.0</td>\n",
       "      <td>2.0</td>\n",
       "      <td>34209413.0</td>\n",
       "      <td>-118578052.0</td>\n",
       "      <td>10537.0</td>\n",
       "      <td>6.037134e+07</td>\n",
       "      <td>12447.0</td>\n",
       "      <td>3101.0</td>\n",
       "      <td>0.0</td>\n",
       "      <td>1964.0</td>\n",
       "      <td>234987.0</td>\n",
       "      <td>4998.86</td>\n",
       "      <td>6.037134e+13</td>\n",
       "      <td>2016-04-15</td>\n",
       "    </tr>\n",
       "  </tbody>\n",
       "</table>\n",
       "</div>"
      ],
      "text/plain": [
       "   index  parcelid  longitude  latitude  landtaxvaluedollarcnt  \\\n",
       "0   1285  10726315        3.0       3.0                    4.0   \n",
       "1   1309  10730788        2.0       4.0                    7.0   \n",
       "2   1361  10743512        3.0       2.0                    4.0   \n",
       "3   1417  10760933        2.0       4.0                    7.0   \n",
       "4   1456  10772282        3.0       4.0                    4.0   \n",
       "\n",
       "   lotsizesquarefeet  unitcnt  bathroomcnt  bedroomcnt  \\\n",
       "0             2445.0   6037.0          2.0  34184300.0   \n",
       "1             1570.0   6037.0          2.0  34188446.0   \n",
       "2             1394.0   6037.0          2.0  34152890.0   \n",
       "3             1212.0   6037.0          7.0  34220631.0   \n",
       "4             2597.0   6037.0          2.0  34209413.0   \n",
       "\n",
       "   calculatedfinishedsquarefeet     fips   fullbathcnt  heatingorsystemtypeid  \\\n",
       "0                  -118657000.0  63878.0  6.037135e+07                12447.0   \n",
       "1                  -118616724.0  11308.0  6.037135e+07                12447.0   \n",
       "2                  -118791494.0  77543.0  6.037800e+07                34278.0   \n",
       "3                  -118521001.0   7379.0  6.037131e+07                12447.0   \n",
       "4                  -118578052.0  10537.0  6.037134e+07                12447.0   \n",
       "\n",
       "   rawcensustractandblock  yearbuilt  structuretaxvaluedollarcnt  taxamount  \\\n",
       "0                  3101.0        0.0                      1982.0   436551.0   \n",
       "1                  3101.0        0.0                      1959.0   115379.0   \n",
       "2                  3101.0        0.0                      1998.0   203426.0   \n",
       "3                  3101.0        0.0                      1954.0    32615.0   \n",
       "4                  3101.0        0.0                      1964.0   234987.0   \n",
       "\n",
       "   censustractandblock      logerror transactiondate  \n",
       "0              7170.22  6.037135e+13      2016-08-24  \n",
       "1              5097.78  6.037135e+13      2016-07-01  \n",
       "2              5550.36  6.037800e+13      2016-03-31  \n",
       "3              4560.02  6.037131e+13      2016-06-27  \n",
       "4              4998.86  6.037134e+13      2016-04-15  "
      ]
     },
     "execution_count": 44,
     "metadata": {},
     "output_type": "execute_result"
    }
   ],
   "source": [
    "dataf.head()"
   ]
  },
  {
   "cell_type": "markdown",
   "metadata": {},
   "source": [
    "###### The END "
   ]
  },
  {
   "cell_type": "code",
   "execution_count": null,
   "metadata": {
    "collapsed": true
   },
   "outputs": [],
   "source": []
  }
 ],
 "metadata": {
  "kernelspec": {
   "display_name": "Python 2",
   "language": "python",
   "name": "python2"
  },
  "language_info": {
   "codemirror_mode": {
    "name": "ipython",
    "version": 2
   },
   "file_extension": ".py",
   "mimetype": "text/x-python",
   "name": "python",
   "nbconvert_exporter": "python",
   "pygments_lexer": "ipython2",
   "version": "2.7.13"
  }
 },
 "nbformat": 4,
 "nbformat_minor": 2
}
