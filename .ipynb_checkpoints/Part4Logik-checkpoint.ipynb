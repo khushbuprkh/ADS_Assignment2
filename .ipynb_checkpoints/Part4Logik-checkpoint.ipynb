{
 "cells": [
  {
   "cell_type": "code",
   "execution_count": 38,
   "metadata": {
    "collapsed": true
   },
   "outputs": [],
   "source": [
    "import pandas as pd\n",
    "import numpy as np\n"
   ]
  },
  {
   "cell_type": "code",
   "execution_count": null,
   "metadata": {
    "collapsed": true
   },
   "outputs": [],
   "source": [
    "properties =pd.read_csv('cleanData.csv',low_memory=False)"
   ]
  },
  {
   "cell_type": "code",
   "execution_count": 5,
   "metadata": {},
   "outputs": [
    {
     "data": {
      "text/plain": [
       "0   -118.657000\n",
       "1   -118.616724\n",
       "2   -118.791494\n",
       "3   -118.521001\n",
       "4   -118.578052\n",
       "Name: longitude, dtype: float64"
      ]
     },
     "execution_count": 5,
     "metadata": {},
     "output_type": "execute_result"
    }
   ],
   "source": [
    "(properties['longitude']/1000000).head()"
   ]
  },
  {
   "cell_type": "code",
   "execution_count": 7,
   "metadata": {},
   "outputs": [
    {
     "name": "stdout",
     "output_type": "stream",
     "text": [
      "Collecting geopy\n",
      "  Downloading geopy-1.11.0-py2.py3-none-any.whl (66kB)\n",
      "\u001b[K    100% |████████████████████████████████| 71kB 4.1MB/s ta 0:00:01\n",
      "\u001b[?25hInstalling collected packages: geopy\n",
      "Successfully installed geopy-1.11.0\n"
     ]
    }
   ],
   "source": [
    "!pip install \n",
    "from geopy.distance import great_circle"
   ]
  },
  {
   "cell_type": "code",
   "execution_count": 87,
   "metadata": {},
   "outputs": [
    {
     "data": {
      "text/html": [
       "<div>\n",
       "<style>\n",
       "    .dataframe thead tr:only-child th {\n",
       "        text-align: right;\n",
       "    }\n",
       "\n",
       "    .dataframe thead th {\n",
       "        text-align: left;\n",
       "    }\n",
       "\n",
       "    .dataframe tbody tr th {\n",
       "        vertical-align: top;\n",
       "    }\n",
       "</style>\n",
       "<table border=\"1\" class=\"dataframe\">\n",
       "  <thead>\n",
       "    <tr style=\"text-align: right;\">\n",
       "      <th></th>\n",
       "      <th>parcelid</th>\n",
       "      <th>longitude</th>\n",
       "      <th>latitude</th>\n",
       "    </tr>\n",
       "  </thead>\n",
       "  <tbody>\n",
       "    <tr>\n",
       "      <th>523</th>\n",
       "      <td>11690418</td>\n",
       "      <td>-118.908236</td>\n",
       "      <td>34.042552</td>\n",
       "    </tr>\n",
       "    <tr>\n",
       "      <th>18306</th>\n",
       "      <td>11690420</td>\n",
       "      <td>-118.907763</td>\n",
       "      <td>34.042197</td>\n",
       "    </tr>\n",
       "    <tr>\n",
       "      <th>38023</th>\n",
       "      <td>11689940</td>\n",
       "      <td>-118.894961</td>\n",
       "      <td>34.062114</td>\n",
       "    </tr>\n",
       "    <tr>\n",
       "      <th>9298</th>\n",
       "      <td>11689898</td>\n",
       "      <td>-118.893928</td>\n",
       "      <td>34.069874</td>\n",
       "    </tr>\n",
       "    <tr>\n",
       "      <th>36359</th>\n",
       "      <td>11689903</td>\n",
       "      <td>-118.893887</td>\n",
       "      <td>34.070827</td>\n",
       "    </tr>\n",
       "  </tbody>\n",
       "</table>\n",
       "</div>"
      ],
      "text/plain": [
       "       parcelid   longitude   latitude\n",
       "523    11690418 -118.908236  34.042552\n",
       "18306  11690420 -118.907763  34.042197\n",
       "38023  11689940 -118.894961  34.062114\n",
       "9298   11689898 -118.893928  34.069874\n",
       "36359  11689903 -118.893887  34.070827"
      ]
     },
     "execution_count": 87,
     "metadata": {},
     "output_type": "execute_result"
    }
   ],
   "source": [
    "j = properties[['parcelid','longitude','latitude']].copy()\n",
    "j.longitude=j.longitude/1000000 \n",
    "j.latitude=j.latitude/1000000\n",
    "j=j.sort_values('longitude')\n",
    "j.head()\n"
   ]
  },
  {
   "cell_type": "code",
   "execution_count": 95,
   "metadata": {
    "collapsed": true
   },
   "outputs": [],
   "source": [
    "input1=-118\n",
    "input2=34\n",
    "userInput=(intput1,input2)\n",
    "var={'parcelid':[],'longitude':[],'latitude':[],'distance':[]}\n",
    "for i,r in j.iterrows():\n",
    "    lo =  r['longitude']\n",
    "    la =  r['latitude']\n",
    "    if(input1==lo):\n",
    "        if(input2==lo):\n",
    "            var['parcelid'].append(r['parcelid'])\n",
    "            var['longitude'].append(r['longitude'])\n",
    "            var['latitude'].append(r['latitude'])\n",
    "    else:\n",
    "            finder=(lo,la)\n",
    "            distance = great_circle(userInput, finder).miles\n",
    "            var['parcelid'].append(r['parcelid'])\n",
    "            var['longitude'].append(r['longitude'])\n",
    "            var['latitude'].append(r['latitude'])\n",
    "            var['distance'].append(distance)\n",
    "\n",
    "p = pd.DataFrame(var) \n"
   ]
  },
  {
   "cell_type": "code",
   "execution_count": 98,
   "metadata": {},
   "outputs": [
    {
     "data": {
      "text/html": [
       "<div>\n",
       "<style>\n",
       "    .dataframe thead tr:only-child th {\n",
       "        text-align: right;\n",
       "    }\n",
       "\n",
       "    .dataframe thead th {\n",
       "        text-align: left;\n",
       "    }\n",
       "\n",
       "    .dataframe tbody tr th {\n",
       "        vertical-align: top;\n",
       "    }\n",
       "</style>\n",
       "<table border=\"1\" class=\"dataframe\">\n",
       "  <thead>\n",
       "    <tr style=\"text-align: right;\">\n",
       "      <th></th>\n",
       "      <th>distance</th>\n",
       "      <th>latitude</th>\n",
       "      <th>longitude</th>\n",
       "      <th>parcelid</th>\n",
       "    </tr>\n",
       "  </thead>\n",
       "  <tbody>\n",
       "    <tr>\n",
       "      <th>40527</th>\n",
       "      <td>0.318746</td>\n",
       "      <td>34.007498</td>\n",
       "      <td>-117.997020</td>\n",
       "      <td>12815690.0</td>\n",
       "    </tr>\n",
       "    <tr>\n",
       "      <th>40503</th>\n",
       "      <td>0.348097</td>\n",
       "      <td>34.009733</td>\n",
       "      <td>-117.997881</td>\n",
       "      <td>12815634.0</td>\n",
       "    </tr>\n",
       "    <tr>\n",
       "      <th>40633</th>\n",
       "      <td>0.558342</td>\n",
       "      <td>33.994412</td>\n",
       "      <td>-117.992359</td>\n",
       "      <td>12821552.0</td>\n",
       "    </tr>\n",
       "    <tr>\n",
       "      <th>40638</th>\n",
       "      <td>0.637275</td>\n",
       "      <td>34.009827</td>\n",
       "      <td>-117.992016</td>\n",
       "      <td>12815481.0</td>\n",
       "    </tr>\n",
       "    <tr>\n",
       "      <th>40695</th>\n",
       "      <td>0.653167</td>\n",
       "      <td>33.996092</td>\n",
       "      <td>-117.990729</td>\n",
       "      <td>12821527.0</td>\n",
       "    </tr>\n",
       "    <tr>\n",
       "      <th>40669</th>\n",
       "      <td>0.704421</td>\n",
       "      <td>33.988904</td>\n",
       "      <td>-117.991239</td>\n",
       "      <td>12855778.0</td>\n",
       "    </tr>\n",
       "    <tr>\n",
       "      <th>40654</th>\n",
       "      <td>0.704908</td>\n",
       "      <td>34.012634</td>\n",
       "      <td>-117.991702</td>\n",
       "      <td>12815512.0</td>\n",
       "    </tr>\n",
       "    <tr>\n",
       "      <th>40632</th>\n",
       "      <td>0.735020</td>\n",
       "      <td>33.984078</td>\n",
       "      <td>-117.992434</td>\n",
       "      <td>12855674.0</td>\n",
       "    </tr>\n",
       "    <tr>\n",
       "      <th>40665</th>\n",
       "      <td>0.763276</td>\n",
       "      <td>33.985359</td>\n",
       "      <td>-117.991355</td>\n",
       "      <td>12855746.0</td>\n",
       "    </tr>\n",
       "    <tr>\n",
       "      <th>40710</th>\n",
       "      <td>0.805059</td>\n",
       "      <td>34.013331</td>\n",
       "      <td>-117.990175</td>\n",
       "      <td>12820735.0</td>\n",
       "    </tr>\n",
       "  </tbody>\n",
       "</table>\n",
       "</div>"
      ],
      "text/plain": [
       "       distance   latitude   longitude    parcelid\n",
       "40527  0.318746  34.007498 -117.997020  12815690.0\n",
       "40503  0.348097  34.009733 -117.997881  12815634.0\n",
       "40633  0.558342  33.994412 -117.992359  12821552.0\n",
       "40638  0.637275  34.009827 -117.992016  12815481.0\n",
       "40695  0.653167  33.996092 -117.990729  12821527.0\n",
       "40669  0.704421  33.988904 -117.991239  12855778.0\n",
       "40654  0.704908  34.012634 -117.991702  12815512.0\n",
       "40632  0.735020  33.984078 -117.992434  12855674.0\n",
       "40665  0.763276  33.985359 -117.991355  12855746.0\n",
       "40710  0.805059  34.013331 -117.990175  12820735.0"
      ]
     },
     "execution_count": 98,
     "metadata": {},
     "output_type": "execute_result"
    }
   ],
   "source": [
    "p.sort_values('distance',ascending=True).head(10)"
   ]
  }
 ],
 "metadata": {
  "kernelspec": {
   "display_name": "Python 2",
   "language": "python",
   "name": "python2"
  },
  "language_info": {
   "codemirror_mode": {
    "name": "ipython",
    "version": 2
   },
   "file_extension": ".py",
   "mimetype": "text/x-python",
   "name": "python",
   "nbconvert_exporter": "python",
   "pygments_lexer": "ipython2",
   "version": "2.7.13"
  }
 },
 "nbformat": 4,
 "nbformat_minor": 2
}
